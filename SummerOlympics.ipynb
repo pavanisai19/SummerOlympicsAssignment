{
  "nbformat": 4,
  "nbformat_minor": 0,
  "metadata": {
    "colab": {
      "name": "SummerOlympics.ipynb",
      "provenance": []
    },
    "kernelspec": {
      "name": "python3",
      "display_name": "Python 3"
    },
    "language_info": {
      "name": "python"
    }
  },
  "cells": [
    {
      "cell_type": "code",
      "metadata": {
        "id": "unRnxJAs5_h7"
      },
      "source": [
        "import pandas as pd"
      ],
      "execution_count": 1,
      "outputs": []
    },
    {
      "cell_type": "code",
      "metadata": {
        "id": "3IG0OeUm6aP-"
      },
      "source": [
        "df=pd.read_csv('summer.csv')"
      ],
      "execution_count": 2,
      "outputs": []
    },
    {
      "cell_type": "code",
      "metadata": {
        "colab": {
          "base_uri": "https://localhost:8080/",
          "height": 204
        },
        "id": "Gxnk1UaZ6aSy",
        "outputId": "3a0c8f9f-5664-4014-f346-0ba17ae86e49"
      },
      "source": [
        "df.head()"
      ],
      "execution_count": 4,
      "outputs": [
        {
          "output_type": "execute_result",
          "data": {
            "text/html": [
              "<div>\n",
              "<style scoped>\n",
              "    .dataframe tbody tr th:only-of-type {\n",
              "        vertical-align: middle;\n",
              "    }\n",
              "\n",
              "    .dataframe tbody tr th {\n",
              "        vertical-align: top;\n",
              "    }\n",
              "\n",
              "    .dataframe thead th {\n",
              "        text-align: right;\n",
              "    }\n",
              "</style>\n",
              "<table border=\"1\" class=\"dataframe\">\n",
              "  <thead>\n",
              "    <tr style=\"text-align: right;\">\n",
              "      <th></th>\n",
              "      <th>Year</th>\n",
              "      <th>City</th>\n",
              "      <th>Sport</th>\n",
              "      <th>Discipline</th>\n",
              "      <th>Athlete</th>\n",
              "      <th>Country</th>\n",
              "      <th>Gender</th>\n",
              "      <th>Event</th>\n",
              "      <th>Medal</th>\n",
              "    </tr>\n",
              "  </thead>\n",
              "  <tbody>\n",
              "    <tr>\n",
              "      <th>0</th>\n",
              "      <td>1896</td>\n",
              "      <td>Athens</td>\n",
              "      <td>Aquatics</td>\n",
              "      <td>Swimming</td>\n",
              "      <td>HAJOS, Alfred</td>\n",
              "      <td>HUN</td>\n",
              "      <td>Men</td>\n",
              "      <td>100M Freestyle</td>\n",
              "      <td>Gold</td>\n",
              "    </tr>\n",
              "    <tr>\n",
              "      <th>1</th>\n",
              "      <td>1896</td>\n",
              "      <td>Athens</td>\n",
              "      <td>Aquatics</td>\n",
              "      <td>Swimming</td>\n",
              "      <td>HERSCHMANN, Otto</td>\n",
              "      <td>AUT</td>\n",
              "      <td>Men</td>\n",
              "      <td>100M Freestyle</td>\n",
              "      <td>Silver</td>\n",
              "    </tr>\n",
              "    <tr>\n",
              "      <th>2</th>\n",
              "      <td>1896</td>\n",
              "      <td>Athens</td>\n",
              "      <td>Aquatics</td>\n",
              "      <td>Swimming</td>\n",
              "      <td>DRIVAS, Dimitrios</td>\n",
              "      <td>GRE</td>\n",
              "      <td>Men</td>\n",
              "      <td>100M Freestyle For Sailors</td>\n",
              "      <td>Bronze</td>\n",
              "    </tr>\n",
              "    <tr>\n",
              "      <th>3</th>\n",
              "      <td>1896</td>\n",
              "      <td>Athens</td>\n",
              "      <td>Aquatics</td>\n",
              "      <td>Swimming</td>\n",
              "      <td>MALOKINIS, Ioannis</td>\n",
              "      <td>GRE</td>\n",
              "      <td>Men</td>\n",
              "      <td>100M Freestyle For Sailors</td>\n",
              "      <td>Gold</td>\n",
              "    </tr>\n",
              "    <tr>\n",
              "      <th>4</th>\n",
              "      <td>1896</td>\n",
              "      <td>Athens</td>\n",
              "      <td>Aquatics</td>\n",
              "      <td>Swimming</td>\n",
              "      <td>CHASAPIS, Spiridon</td>\n",
              "      <td>GRE</td>\n",
              "      <td>Men</td>\n",
              "      <td>100M Freestyle For Sailors</td>\n",
              "      <td>Silver</td>\n",
              "    </tr>\n",
              "  </tbody>\n",
              "</table>\n",
              "</div>"
            ],
            "text/plain": [
              "   Year    City     Sport  ... Gender                       Event   Medal\n",
              "0  1896  Athens  Aquatics  ...    Men              100M Freestyle    Gold\n",
              "1  1896  Athens  Aquatics  ...    Men              100M Freestyle  Silver\n",
              "2  1896  Athens  Aquatics  ...    Men  100M Freestyle For Sailors  Bronze\n",
              "3  1896  Athens  Aquatics  ...    Men  100M Freestyle For Sailors    Gold\n",
              "4  1896  Athens  Aquatics  ...    Men  100M Freestyle For Sailors  Silver\n",
              "\n",
              "[5 rows x 9 columns]"
            ]
          },
          "metadata": {},
          "execution_count": 4
        }
      ]
    },
    {
      "cell_type": "code",
      "metadata": {
        "colab": {
          "base_uri": "https://localhost:8080/",
          "height": 0
        },
        "id": "SFVmcNzP6aU7",
        "outputId": "6ee61a0a-b1d5-40a3-b169-aa7927e83763"
      },
      "source": [
        "df['Sport'].unique()"
      ],
      "execution_count": 6,
      "outputs": [
        {
          "output_type": "execute_result",
          "data": {
            "text/plain": [
              "array(['Aquatics', 'Athletics', 'Cycling', 'Fencing', 'Gymnastics',\n",
              "       'Shooting', 'Tennis', 'Weightlifting', 'Wrestling', 'Archery',\n",
              "       'Basque Pelota', 'Cricket', 'Croquet', 'Equestrian', 'Football',\n",
              "       'Golf', 'Polo', 'Rowing', 'Rugby', 'Sailing', 'Tug of War',\n",
              "       'Boxing', 'Lacrosse', 'Roque', 'Hockey', 'Jeu de paume', 'Rackets',\n",
              "       'Skating', 'Water Motorsports', 'Modern Pentathlon', 'Ice Hockey',\n",
              "       'Basketball', 'Canoe / Kayak', 'Handball', 'Judo', 'Volleyball',\n",
              "       'Table Tennis', 'Badminton', 'Baseball', 'Softball', 'Taekwondo',\n",
              "       'Triathlon', 'Canoe'], dtype=object)"
            ]
          },
          "metadata": {},
          "execution_count": 6
        }
      ]
    },
    {
      "cell_type": "code",
      "metadata": {
        "colab": {
          "base_uri": "https://localhost:8080/",
          "height": 0
        },
        "id": "UpP1nvmn6aXn",
        "outputId": "0580ffb1-9f77-4b25-e566-bd1f7ede1cf8"
      },
      "source": [
        "df['Gender'].unique()"
      ],
      "execution_count": 7,
      "outputs": [
        {
          "output_type": "execute_result",
          "data": {
            "text/plain": [
              "array(['Men', 'Women'], dtype=object)"
            ]
          },
          "metadata": {},
          "execution_count": 7
        }
      ]
    },
    {
      "cell_type": "markdown",
      "metadata": {
        "id": "PSoMnhqT64d-"
      },
      "source": [
        "# **Summer Olympics Data Analysis Assignment**"
      ]
    },
    {
      "cell_type": "markdown",
      "metadata": {
        "id": "cbKZz--M7VQT"
      },
      "source": [
        "**1. In how many cities Summer Olympics is held so far?**"
      ]
    },
    {
      "cell_type": "code",
      "metadata": {
        "colab": {
          "base_uri": "https://localhost:8080/",
          "height": 0
        },
        "id": "yi0SwYs66aaL",
        "outputId": "c2b84a92-9e3b-4f1e-85e1-6413811ac14e"
      },
      "source": [
        "df['City'].unique()"
      ],
      "execution_count": 32,
      "outputs": [
        {
          "output_type": "execute_result",
          "data": {
            "text/plain": [
              "array(['Athens', 'Paris', 'St Louis', 'London', 'Stockholm', 'Antwerp',\n",
              "       'Amsterdam', 'Los Angeles', 'Berlin', 'Helsinki',\n",
              "       'Melbourne / Stockholm', 'Rome', 'Tokyo', 'Mexico', 'Munich',\n",
              "       'Montreal', 'Moscow', 'Seoul', 'Barcelona', 'Atlanta', 'Sydney',\n",
              "       'Beijing'], dtype=object)"
            ]
          },
          "metadata": {},
          "execution_count": 32
        }
      ]
    },
    {
      "cell_type": "code",
      "metadata": {
        "colab": {
          "base_uri": "https://localhost:8080/",
          "height": 0
        },
        "id": "9R3wu-G_6adB",
        "outputId": "b78d164b-e594-43c3-e010-b6055a354b48"
      },
      "source": [
        "len(df['City'].unique())\n"
      ],
      "execution_count": 33,
      "outputs": [
        {
          "output_type": "execute_result",
          "data": {
            "text/plain": [
              "22"
            ]
          },
          "metadata": {},
          "execution_count": 33
        }
      ]
    },
    {
      "cell_type": "markdown",
      "metadata": {
        "id": "yQDpvfNs7wsE"
      },
      "source": [
        "**2. Which sport is having most number of Gold Medals so far? (Top 5)**"
      ]
    },
    {
      "cell_type": "code",
      "metadata": {
        "colab": {
          "base_uri": "https://localhost:8080/",
          "height": 204
        },
        "id": "D-npnxCw6aiN",
        "outputId": "60d0be10-91a4-45f3-bab0-2e599912013a"
      },
      "source": [
        "sportInOly = df[ (df.Medal == 'Gold')]\n",
        "sportInOly.head()"
      ],
      "execution_count": 11,
      "outputs": [
        {
          "output_type": "execute_result",
          "data": {
            "text/html": [
              "<div>\n",
              "<style scoped>\n",
              "    .dataframe tbody tr th:only-of-type {\n",
              "        vertical-align: middle;\n",
              "    }\n",
              "\n",
              "    .dataframe tbody tr th {\n",
              "        vertical-align: top;\n",
              "    }\n",
              "\n",
              "    .dataframe thead th {\n",
              "        text-align: right;\n",
              "    }\n",
              "</style>\n",
              "<table border=\"1\" class=\"dataframe\">\n",
              "  <thead>\n",
              "    <tr style=\"text-align: right;\">\n",
              "      <th></th>\n",
              "      <th>Year</th>\n",
              "      <th>City</th>\n",
              "      <th>Sport</th>\n",
              "      <th>Discipline</th>\n",
              "      <th>Athlete</th>\n",
              "      <th>Country</th>\n",
              "      <th>Gender</th>\n",
              "      <th>Event</th>\n",
              "      <th>Medal</th>\n",
              "    </tr>\n",
              "  </thead>\n",
              "  <tbody>\n",
              "    <tr>\n",
              "      <th>0</th>\n",
              "      <td>1896</td>\n",
              "      <td>Athens</td>\n",
              "      <td>Aquatics</td>\n",
              "      <td>Swimming</td>\n",
              "      <td>HAJOS, Alfred</td>\n",
              "      <td>HUN</td>\n",
              "      <td>Men</td>\n",
              "      <td>100M Freestyle</td>\n",
              "      <td>Gold</td>\n",
              "    </tr>\n",
              "    <tr>\n",
              "      <th>3</th>\n",
              "      <td>1896</td>\n",
              "      <td>Athens</td>\n",
              "      <td>Aquatics</td>\n",
              "      <td>Swimming</td>\n",
              "      <td>MALOKINIS, Ioannis</td>\n",
              "      <td>GRE</td>\n",
              "      <td>Men</td>\n",
              "      <td>100M Freestyle For Sailors</td>\n",
              "      <td>Gold</td>\n",
              "    </tr>\n",
              "    <tr>\n",
              "      <th>6</th>\n",
              "      <td>1896</td>\n",
              "      <td>Athens</td>\n",
              "      <td>Aquatics</td>\n",
              "      <td>Swimming</td>\n",
              "      <td>HAJOS, Alfred</td>\n",
              "      <td>HUN</td>\n",
              "      <td>Men</td>\n",
              "      <td>1200M Freestyle</td>\n",
              "      <td>Gold</td>\n",
              "    </tr>\n",
              "    <tr>\n",
              "      <th>9</th>\n",
              "      <td>1896</td>\n",
              "      <td>Athens</td>\n",
              "      <td>Aquatics</td>\n",
              "      <td>Swimming</td>\n",
              "      <td>NEUMANN, Paul</td>\n",
              "      <td>AUT</td>\n",
              "      <td>Men</td>\n",
              "      <td>400M Freestyle</td>\n",
              "      <td>Gold</td>\n",
              "    </tr>\n",
              "    <tr>\n",
              "      <th>13</th>\n",
              "      <td>1896</td>\n",
              "      <td>Athens</td>\n",
              "      <td>Athletics</td>\n",
              "      <td>Athletics</td>\n",
              "      <td>BURKE, Thomas</td>\n",
              "      <td>USA</td>\n",
              "      <td>Men</td>\n",
              "      <td>100M</td>\n",
              "      <td>Gold</td>\n",
              "    </tr>\n",
              "  </tbody>\n",
              "</table>\n",
              "</div>"
            ],
            "text/plain": [
              "    Year    City      Sport  ... Gender                       Event Medal\n",
              "0   1896  Athens   Aquatics  ...    Men              100M Freestyle  Gold\n",
              "3   1896  Athens   Aquatics  ...    Men  100M Freestyle For Sailors  Gold\n",
              "6   1896  Athens   Aquatics  ...    Men             1200M Freestyle  Gold\n",
              "9   1896  Athens   Aquatics  ...    Men              400M Freestyle  Gold\n",
              "13  1896  Athens  Athletics  ...    Men                        100M  Gold\n",
              "\n",
              "[5 rows x 9 columns]"
            ]
          },
          "metadata": {},
          "execution_count": 11
        }
      ]
    },
    {
      "cell_type": "code",
      "metadata": {
        "id": "JFW_iCYl6af2"
      },
      "source": [
        "data=[]\n",
        "for sport in sportInOly['Sport'].unique():\n",
        "    data.append([sport,len(sportInOly[sportInOly['Sport']==sport])])\n",
        "data=pd.DataFrame(data, columns=['Sport','No.of gold medals']) \n",
        "data=data.sort_values(by='No.of gold medals', ascending=False).head()"
      ],
      "execution_count": 16,
      "outputs": []
    },
    {
      "cell_type": "code",
      "metadata": {
        "colab": {
          "base_uri": "https://localhost:8080/",
          "height": 204
        },
        "id": "Bk_g6k-F6akz",
        "outputId": "c44212a1-8b28-4c3e-9dc5-f3159060d9f9"
      },
      "source": [
        "data"
      ],
      "execution_count": 17,
      "outputs": [
        {
          "output_type": "execute_result",
          "data": {
            "text/html": [
              "<div>\n",
              "<style scoped>\n",
              "    .dataframe tbody tr th:only-of-type {\n",
              "        vertical-align: middle;\n",
              "    }\n",
              "\n",
              "    .dataframe tbody tr th {\n",
              "        vertical-align: top;\n",
              "    }\n",
              "\n",
              "    .dataframe thead th {\n",
              "        text-align: right;\n",
              "    }\n",
              "</style>\n",
              "<table border=\"1\" class=\"dataframe\">\n",
              "  <thead>\n",
              "    <tr style=\"text-align: right;\">\n",
              "      <th></th>\n",
              "      <th>Sport</th>\n",
              "      <th>No.of gold medals</th>\n",
              "    </tr>\n",
              "  </thead>\n",
              "  <tbody>\n",
              "    <tr>\n",
              "      <th>0</th>\n",
              "      <td>Aquatics</td>\n",
              "      <td>1421</td>\n",
              "    </tr>\n",
              "    <tr>\n",
              "      <th>1</th>\n",
              "      <td>Athletics</td>\n",
              "      <td>1215</td>\n",
              "    </tr>\n",
              "    <tr>\n",
              "      <th>17</th>\n",
              "      <td>Rowing</td>\n",
              "      <td>890</td>\n",
              "    </tr>\n",
              "    <tr>\n",
              "      <th>4</th>\n",
              "      <td>Gymnastics</td>\n",
              "      <td>820</td>\n",
              "    </tr>\n",
              "    <tr>\n",
              "      <th>3</th>\n",
              "      <td>Fencing</td>\n",
              "      <td>552</td>\n",
              "    </tr>\n",
              "  </tbody>\n",
              "</table>\n",
              "</div>"
            ],
            "text/plain": [
              "         Sport  No.of gold medals\n",
              "0     Aquatics               1421\n",
              "1    Athletics               1215\n",
              "17      Rowing                890\n",
              "4   Gymnastics                820\n",
              "3      Fencing                552"
            ]
          },
          "metadata": {},
          "execution_count": 17
        }
      ]
    },
    {
      "cell_type": "code",
      "metadata": {
        "colab": {
          "base_uri": "https://localhost:8080/",
          "height": 345
        },
        "id": "evFUphJS6anu",
        "outputId": "98be6274-3fe7-4463-85c6-cd8bb82e8804"
      },
      "source": [
        "data.plot(x='Sport',y='No.of gold medals',kind='bar')"
      ],
      "execution_count": 19,
      "outputs": [
        {
          "output_type": "execute_result",
          "data": {
            "text/plain": [
              "<matplotlib.axes._subplots.AxesSubplot at 0x7f02283172d0>"
            ]
          },
          "metadata": {},
          "execution_count": 19
        },
        {
          "output_type": "display_data",
          "data": {
            "image/png": "[encoded data removed]",
            "text/plain": [
              "<Figure size 432x288 with 1 Axes>"
            ]
          },
          "metadata": {
            "needs_background": "light"
          }
        }
      ]
    },
    {
      "cell_type": "markdown",
      "metadata": {
        "id": "65A5QCAI8Ud9"
      },
      "source": [
        "**3. Which sport is having most number of medals so far? (Top 5)**"
      ]
    },
    {
      "cell_type": "code",
      "metadata": {
        "id": "iiKRBPxy6aqO"
      },
      "source": [
        "data=[]\n",
        "for sport in df['Sport'].unique():\n",
        "    data.append([sport,len(df[df['Sport']==sport])])\n",
        "data=pd.DataFrame(data, columns=['Sport','No.of medals']) \n",
        "data=data.sort_values(by='No.of medals', ascending=False).head()"
      ],
      "execution_count": 20,
      "outputs": []
    },
    {
      "cell_type": "code",
      "metadata": {
        "colab": {
          "base_uri": "https://localhost:8080/",
          "height": 204
        },
        "id": "kT9C7POs6as9",
        "outputId": "3e3429e1-9dbc-4c08-95f4-6757120f42aa"
      },
      "source": [
        "data"
      ],
      "execution_count": 21,
      "outputs": [
        {
          "output_type": "execute_result",
          "data": {
            "text/html": [
              "<div>\n",
              "<style scoped>\n",
              "    .dataframe tbody tr th:only-of-type {\n",
              "        vertical-align: middle;\n",
              "    }\n",
              "\n",
              "    .dataframe tbody tr th {\n",
              "        vertical-align: top;\n",
              "    }\n",
              "\n",
              "    .dataframe thead th {\n",
              "        text-align: right;\n",
              "    }\n",
              "</style>\n",
              "<table border=\"1\" class=\"dataframe\">\n",
              "  <thead>\n",
              "    <tr style=\"text-align: right;\">\n",
              "      <th></th>\n",
              "      <th>Sport</th>\n",
              "      <th>No.of medals</th>\n",
              "    </tr>\n",
              "  </thead>\n",
              "  <tbody>\n",
              "    <tr>\n",
              "      <th>0</th>\n",
              "      <td>Aquatics</td>\n",
              "      <td>4170</td>\n",
              "    </tr>\n",
              "    <tr>\n",
              "      <th>1</th>\n",
              "      <td>Athletics</td>\n",
              "      <td>3638</td>\n",
              "    </tr>\n",
              "    <tr>\n",
              "      <th>17</th>\n",
              "      <td>Rowing</td>\n",
              "      <td>2667</td>\n",
              "    </tr>\n",
              "    <tr>\n",
              "      <th>4</th>\n",
              "      <td>Gymnastics</td>\n",
              "      <td>2307</td>\n",
              "    </tr>\n",
              "    <tr>\n",
              "      <th>3</th>\n",
              "      <td>Fencing</td>\n",
              "      <td>1613</td>\n",
              "    </tr>\n",
              "  </tbody>\n",
              "</table>\n",
              "</div>"
            ],
            "text/plain": [
              "         Sport  No.of medals\n",
              "0     Aquatics          4170\n",
              "1    Athletics          3638\n",
              "17      Rowing          2667\n",
              "4   Gymnastics          2307\n",
              "3      Fencing          1613"
            ]
          },
          "metadata": {},
          "execution_count": 21
        }
      ]
    },
    {
      "cell_type": "code",
      "metadata": {
        "colab": {
          "base_uri": "https://localhost:8080/",
          "height": 345
        },
        "id": "3W4UD_Of6avr",
        "outputId": "6472f277-ee35-4561-e464-044ce5cfd1b7"
      },
      "source": [
        "data.plot(x='Sport',y='No.of medals',kind='bar')"
      ],
      "execution_count": 22,
      "outputs": [
        {
          "output_type": "execute_result",
          "data": {
            "text/plain": [
              "<matplotlib.axes._subplots.AxesSubplot at 0x7f0220e318d0>"
            ]
          },
          "metadata": {},
          "execution_count": 22
        },
        {
          "output_type": "display_data",
          "data": {
            "image/png": "[encoded data removed]",
            "text/plain": [
              "<Figure size 432x288 with 1 Axes>"
            ]
          },
          "metadata": {
            "needs_background": "light"
          }
        }
      ]
    },
    {
      "cell_type": "markdown",
      "metadata": {
        "id": "TjQwKFfs9ANf"
      },
      "source": [
        "**4. Which player has won most number of medals? (Top 5)**"
      ]
    },
    {
      "cell_type": "code",
      "metadata": {
        "id": "Lmf88TOR6ay5"
      },
      "source": [
        "data=[]\n",
        "for sport in df['Athlete'].unique():\n",
        "    data.append([sport,len(df[df['Athlete']==sport])])\n",
        "data=pd.DataFrame(data, columns=['Athlete','No.of medals']) \n",
        "data=data.sort_values(by='No.of medals', ascending=False).head()"
      ],
      "execution_count": 23,
      "outputs": []
    },
    {
      "cell_type": "code",
      "metadata": {
        "colab": {
          "base_uri": "https://localhost:8080/",
          "height": 204
        },
        "id": "DnW3kdTv87-d",
        "outputId": "1e3d0f0f-2719-406c-dcfe-c34b151b35c5"
      },
      "source": [
        "data"
      ],
      "execution_count": 24,
      "outputs": [
        {
          "output_type": "execute_result",
          "data": {
            "text/html": [
              "<div>\n",
              "<style scoped>\n",
              "    .dataframe tbody tr th:only-of-type {\n",
              "        vertical-align: middle;\n",
              "    }\n",
              "\n",
              "    .dataframe tbody tr th {\n",
              "        vertical-align: top;\n",
              "    }\n",
              "\n",
              "    .dataframe thead th {\n",
              "        text-align: right;\n",
              "    }\n",
              "</style>\n",
              "<table border=\"1\" class=\"dataframe\">\n",
              "  <thead>\n",
              "    <tr style=\"text-align: right;\">\n",
              "      <th></th>\n",
              "      <th>Athlete</th>\n",
              "      <th>No.of medals</th>\n",
              "    </tr>\n",
              "  </thead>\n",
              "  <tbody>\n",
              "    <tr>\n",
              "      <th>18640</th>\n",
              "      <td>PHELPS, Michael</td>\n",
              "      <td>22</td>\n",
              "    </tr>\n",
              "    <tr>\n",
              "      <th>7197</th>\n",
              "      <td>LATYNINA, Larisa</td>\n",
              "      <td>18</td>\n",
              "    </tr>\n",
              "    <tr>\n",
              "      <th>9948</th>\n",
              "      <td>ANDRIANOV, Nikolay</td>\n",
              "      <td>15</td>\n",
              "    </tr>\n",
              "    <tr>\n",
              "      <th>6591</th>\n",
              "      <td>ONO, Takashi</td>\n",
              "      <td>13</td>\n",
              "    </tr>\n",
              "    <tr>\n",
              "      <th>5103</th>\n",
              "      <td>MANGIAROTTI, Edoardo</td>\n",
              "      <td>13</td>\n",
              "    </tr>\n",
              "  </tbody>\n",
              "</table>\n",
              "</div>"
            ],
            "text/plain": [
              "                    Athlete  No.of medals\n",
              "18640       PHELPS, Michael            22\n",
              "7197       LATYNINA, Larisa            18\n",
              "9948     ANDRIANOV, Nikolay            15\n",
              "6591           ONO, Takashi            13\n",
              "5103   MANGIAROTTI, Edoardo            13"
            ]
          },
          "metadata": {},
          "execution_count": 24
        }
      ]
    },
    {
      "cell_type": "code",
      "metadata": {
        "colab": {
          "base_uri": "https://localhost:8080/",
          "height": 404
        },
        "id": "i05IOwo_88B9",
        "outputId": "5c066de2-469c-448f-eb61-374a44556b25"
      },
      "source": [
        "data.plot(x='Athlete',y='No.of medals',kind='bar')"
      ],
      "execution_count": 25,
      "outputs": [
        {
          "output_type": "execute_result",
          "data": {
            "text/plain": [
              "<matplotlib.axes._subplots.AxesSubplot at 0x7f0220d6d210>"
            ]
          },
          "metadata": {},
          "execution_count": 25
        },
        {
          "output_type": "display_data",
          "data": {
            "image/png": "[encoded data removed]",
            "text/plain": [
              "<Figure size 432x288 with 1 Axes>"
            ]
          },
          "metadata": {
            "needs_background": "light"
          }
        }
      ]
    },
    {
      "cell_type": "markdown",
      "metadata": {
        "id": "zCJvzD6s9b6x"
      },
      "source": [
        "**5. Which player has won most number Gold Medals of medals? (Top 5)**"
      ]
    },
    {
      "cell_type": "code",
      "metadata": {
        "id": "s2FAl-kd88EE"
      },
      "source": [
        "playerInOlympics = df[ (df.Medal == 'Gold')]"
      ],
      "execution_count": 26,
      "outputs": []
    },
    {
      "cell_type": "code",
      "metadata": {
        "colab": {
          "base_uri": "https://localhost:8080/",
          "height": 204
        },
        "id": "zCjWtJzB88HI",
        "outputId": "c858e72f-6046-4874-db2b-93d361048439"
      },
      "source": [
        "playerInOlympics.head()"
      ],
      "execution_count": 27,
      "outputs": [
        {
          "output_type": "execute_result",
          "data": {
            "text/html": [
              "<div>\n",
              "<style scoped>\n",
              "    .dataframe tbody tr th:only-of-type {\n",
              "        vertical-align: middle;\n",
              "    }\n",
              "\n",
              "    .dataframe tbody tr th {\n",
              "        vertical-align: top;\n",
              "    }\n",
              "\n",
              "    .dataframe thead th {\n",
              "        text-align: right;\n",
              "    }\n",
              "</style>\n",
              "<table border=\"1\" class=\"dataframe\">\n",
              "  <thead>\n",
              "    <tr style=\"text-align: right;\">\n",
              "      <th></th>\n",
              "      <th>Year</th>\n",
              "      <th>City</th>\n",
              "      <th>Sport</th>\n",
              "      <th>Discipline</th>\n",
              "      <th>Athlete</th>\n",
              "      <th>Country</th>\n",
              "      <th>Gender</th>\n",
              "      <th>Event</th>\n",
              "      <th>Medal</th>\n",
              "    </tr>\n",
              "  </thead>\n",
              "  <tbody>\n",
              "    <tr>\n",
              "      <th>0</th>\n",
              "      <td>1896</td>\n",
              "      <td>Athens</td>\n",
              "      <td>Aquatics</td>\n",
              "      <td>Swimming</td>\n",
              "      <td>HAJOS, Alfred</td>\n",
              "      <td>HUN</td>\n",
              "      <td>Men</td>\n",
              "      <td>100M Freestyle</td>\n",
              "      <td>Gold</td>\n",
              "    </tr>\n",
              "    <tr>\n",
              "      <th>3</th>\n",
              "      <td>1896</td>\n",
              "      <td>Athens</td>\n",
              "      <td>Aquatics</td>\n",
              "      <td>Swimming</td>\n",
              "      <td>MALOKINIS, Ioannis</td>\n",
              "      <td>GRE</td>\n",
              "      <td>Men</td>\n",
              "      <td>100M Freestyle For Sailors</td>\n",
              "      <td>Gold</td>\n",
              "    </tr>\n",
              "    <tr>\n",
              "      <th>6</th>\n",
              "      <td>1896</td>\n",
              "      <td>Athens</td>\n",
              "      <td>Aquatics</td>\n",
              "      <td>Swimming</td>\n",
              "      <td>HAJOS, Alfred</td>\n",
              "      <td>HUN</td>\n",
              "      <td>Men</td>\n",
              "      <td>1200M Freestyle</td>\n",
              "      <td>Gold</td>\n",
              "    </tr>\n",
              "    <tr>\n",
              "      <th>9</th>\n",
              "      <td>1896</td>\n",
              "      <td>Athens</td>\n",
              "      <td>Aquatics</td>\n",
              "      <td>Swimming</td>\n",
              "      <td>NEUMANN, Paul</td>\n",
              "      <td>AUT</td>\n",
              "      <td>Men</td>\n",
              "      <td>400M Freestyle</td>\n",
              "      <td>Gold</td>\n",
              "    </tr>\n",
              "    <tr>\n",
              "      <th>13</th>\n",
              "      <td>1896</td>\n",
              "      <td>Athens</td>\n",
              "      <td>Athletics</td>\n",
              "      <td>Athletics</td>\n",
              "      <td>BURKE, Thomas</td>\n",
              "      <td>USA</td>\n",
              "      <td>Men</td>\n",
              "      <td>100M</td>\n",
              "      <td>Gold</td>\n",
              "    </tr>\n",
              "  </tbody>\n",
              "</table>\n",
              "</div>"
            ],
            "text/plain": [
              "    Year    City      Sport  ... Gender                       Event Medal\n",
              "0   1896  Athens   Aquatics  ...    Men              100M Freestyle  Gold\n",
              "3   1896  Athens   Aquatics  ...    Men  100M Freestyle For Sailors  Gold\n",
              "6   1896  Athens   Aquatics  ...    Men             1200M Freestyle  Gold\n",
              "9   1896  Athens   Aquatics  ...    Men              400M Freestyle  Gold\n",
              "13  1896  Athens  Athletics  ...    Men                        100M  Gold\n",
              "\n",
              "[5 rows x 9 columns]"
            ]
          },
          "metadata": {},
          "execution_count": 27
        }
      ]
    },
    {
      "cell_type": "code",
      "metadata": {
        "id": "BPH9gWpJ88J6"
      },
      "source": [
        "data=[]\n",
        "for sport in playerInOlympics['Athlete'].unique():\n",
        "    data.append([sport,len(playerInOlympics[playerInOlympics['Athlete']==sport])])\n",
        "data=pd.DataFrame(data, columns=['Athlete','No.of gold medals']) \n",
        "data=data.sort_values(by='No.of gold medals', ascending=False).head()"
      ],
      "execution_count": 28,
      "outputs": []
    },
    {
      "cell_type": "code",
      "metadata": {
        "colab": {
          "base_uri": "https://localhost:8080/",
          "height": 204
        },
        "id": "uRxWMJ1e88Nr",
        "outputId": "f029a5c7-0eec-49bc-b144-713509e90fa3"
      },
      "source": [
        "data"
      ],
      "execution_count": 29,
      "outputs": [
        {
          "output_type": "execute_result",
          "data": {
            "text/html": [
              "<div>\n",
              "<style scoped>\n",
              "    .dataframe tbody tr th:only-of-type {\n",
              "        vertical-align: middle;\n",
              "    }\n",
              "\n",
              "    .dataframe tbody tr th {\n",
              "        vertical-align: top;\n",
              "    }\n",
              "\n",
              "    .dataframe thead th {\n",
              "        text-align: right;\n",
              "    }\n",
              "</style>\n",
              "<table border=\"1\" class=\"dataframe\">\n",
              "  <thead>\n",
              "    <tr style=\"text-align: right;\">\n",
              "      <th></th>\n",
              "      <th>Athlete</th>\n",
              "      <th>No. of gold medals</th>\n",
              "    </tr>\n",
              "  </thead>\n",
              "  <tbody>\n",
              "    <tr>\n",
              "      <th>6851</th>\n",
              "      <td>PHELPS, Michael</td>\n",
              "      <td>18</td>\n",
              "    </tr>\n",
              "    <tr>\n",
              "      <th>3320</th>\n",
              "      <td>SPITZ, Mark</td>\n",
              "      <td>9</td>\n",
              "    </tr>\n",
              "    <tr>\n",
              "      <th>2714</th>\n",
              "      <td>LATYNINA, Larisa</td>\n",
              "      <td>9</td>\n",
              "    </tr>\n",
              "    <tr>\n",
              "      <th>4630</th>\n",
              "      <td>LEWIS, Carl</td>\n",
              "      <td>9</td>\n",
              "    </tr>\n",
              "    <tr>\n",
              "      <th>907</th>\n",
              "      <td>NURMI, Paavo</td>\n",
              "      <td>9</td>\n",
              "    </tr>\n",
              "  </tbody>\n",
              "</table>\n",
              "</div>"
            ],
            "text/plain": [
              "               Athlete  No. of gold medals\n",
              "6851   PHELPS, Michael                  18\n",
              "3320       SPITZ, Mark                   9\n",
              "2714  LATYNINA, Larisa                   9\n",
              "4630       LEWIS, Carl                   9\n",
              "907       NURMI, Paavo                   9"
            ]
          },
          "metadata": {},
          "execution_count": 29
        }
      ]
    },
    {
      "cell_type": "code",
      "metadata": {
        "colab": {
          "base_uri": "https://localhost:8080/",
          "height": 371
        },
        "id": "lLAtpXBH88T4",
        "outputId": "38219206-3ad1-4c9b-8625-b1a78ba62f47"
      },
      "source": [
        "data.plot(x='Athlete',y='No. of gold medals',kind='bar')"
      ],
      "execution_count": 30,
      "outputs": [
        {
          "output_type": "execute_result",
          "data": {
            "text/plain": [
              "<matplotlib.axes._subplots.AxesSubplot at 0x7f0220c67e90>"
            ]
          },
          "metadata": {},
          "execution_count": 30
        },
        {
          "output_type": "display_data",
          "data": {
            "image/png": "[encoded data removed]",
            "text/plain": [
              "<Figure size 432x288 with 1 Axes>"
            ]
          },
          "metadata": {
            "needs_background": "light"
          }
        }
      ]
    },
    {
      "cell_type": "markdown",
      "metadata": {
        "id": "DsE6SrpQ-EaR"
      },
      "source": [
        "**6. In which year India won first Gold Medal in Summer Olympics?**"
      ]
    },
    {
      "cell_type": "code",
      "metadata": {
        "colab": {
          "base_uri": "https://localhost:8080/",
          "height": 80
        },
        "id": "BjW-h20r88Wu",
        "outputId": "d2ccc38f-9962-4152-e9af-50e939ba7e64"
      },
      "source": [
        "IndiaInOlympics = df[(df.Country==\"IND\") & (df.Medal == 'Gold')]\n",
        "IndiaInOlympics.head(1)"
      ],
      "execution_count": 34,
      "outputs": [
        {
          "output_type": "execute_result",
          "data": {
            "text/html": [
              "<div>\n",
              "<style scoped>\n",
              "    .dataframe tbody tr th:only-of-type {\n",
              "        vertical-align: middle;\n",
              "    }\n",
              "\n",
              "    .dataframe tbody tr th {\n",
              "        vertical-align: top;\n",
              "    }\n",
              "\n",
              "    .dataframe thead th {\n",
              "        text-align: right;\n",
              "    }\n",
              "</style>\n",
              "<table border=\"1\" class=\"dataframe\">\n",
              "  <thead>\n",
              "    <tr style=\"text-align: right;\">\n",
              "      <th></th>\n",
              "      <th>Year</th>\n",
              "      <th>City</th>\n",
              "      <th>Sport</th>\n",
              "      <th>Discipline</th>\n",
              "      <th>Athlete</th>\n",
              "      <th>Country</th>\n",
              "      <th>Gender</th>\n",
              "      <th>Event</th>\n",
              "      <th>Medal</th>\n",
              "    </tr>\n",
              "  </thead>\n",
              "  <tbody>\n",
              "    <tr>\n",
              "      <th>5512</th>\n",
              "      <td>1928</td>\n",
              "      <td>Amsterdam</td>\n",
              "      <td>Hockey</td>\n",
              "      <td>Hockey</td>\n",
              "      <td>ALLEN, Richard James</td>\n",
              "      <td>IND</td>\n",
              "      <td>Men</td>\n",
              "      <td>Hockey</td>\n",
              "      <td>Gold</td>\n",
              "    </tr>\n",
              "  </tbody>\n",
              "</table>\n",
              "</div>"
            ],
            "text/plain": [
              "      Year       City   Sport Discipline  ... Country Gender   Event Medal\n",
              "5512  1928  Amsterdam  Hockey     Hockey  ...     IND    Men  Hockey  Gold\n",
              "\n",
              "[1 rows x 9 columns]"
            ]
          },
          "metadata": {},
          "execution_count": 34
        }
      ]
    },
    {
      "cell_type": "markdown",
      "metadata": {
        "id": "ZUNAUcAG-PBw"
      },
      "source": [
        "**7. Which event is most popular in terms on number of players? (Top 5)**"
      ]
    },
    {
      "cell_type": "code",
      "metadata": {
        "id": "o49st8B2-KyD"
      },
      "source": [
        "data=[]\n",
        "for event in df['Event'].unique():\n",
        "  data.append([event,len(df[df['Event']==event])])\n",
        "data=pd.DataFrame(data,columns=['Event','No.of Players']).sort_values(by='No.of Players',ascending=False).head()"
      ],
      "execution_count": 37,
      "outputs": []
    },
    {
      "cell_type": "code",
      "metadata": {
        "colab": {
          "base_uri": "https://localhost:8080/",
          "height": 204
        },
        "id": "gk5DQO41-K16",
        "outputId": "202debdc-352b-4d89-ea88-1bc544599742"
      },
      "source": [
        "data"
      ],
      "execution_count": 38,
      "outputs": [
        {
          "output_type": "execute_result",
          "data": {
            "text/html": [
              "<div>\n",
              "<style scoped>\n",
              "    .dataframe tbody tr th:only-of-type {\n",
              "        vertical-align: middle;\n",
              "    }\n",
              "\n",
              "    .dataframe tbody tr th {\n",
              "        vertical-align: top;\n",
              "    }\n",
              "\n",
              "    .dataframe thead th {\n",
              "        text-align: right;\n",
              "    }\n",
              "</style>\n",
              "<table border=\"1\" class=\"dataframe\">\n",
              "  <thead>\n",
              "    <tr style=\"text-align: right;\">\n",
              "      <th></th>\n",
              "      <th>Event</th>\n",
              "      <th>No.of Players</th>\n",
              "    </tr>\n",
              "  </thead>\n",
              "  <tbody>\n",
              "    <tr>\n",
              "      <th>80</th>\n",
              "      <td>Football</td>\n",
              "      <td>1497</td>\n",
              "    </tr>\n",
              "    <tr>\n",
              "      <th>176</th>\n",
              "      <td>Hockey</td>\n",
              "      <td>1422</td>\n",
              "    </tr>\n",
              "    <tr>\n",
              "      <th>138</th>\n",
              "      <td>Team Competition</td>\n",
              "      <td>1147</td>\n",
              "    </tr>\n",
              "    <tr>\n",
              "      <th>327</th>\n",
              "      <td>Basketball</td>\n",
              "      <td>1012</td>\n",
              "    </tr>\n",
              "    <tr>\n",
              "      <th>337</th>\n",
              "      <td>Handball</td>\n",
              "      <td>973</td>\n",
              "    </tr>\n",
              "  </tbody>\n",
              "</table>\n",
              "</div>"
            ],
            "text/plain": [
              "                Event  No.of Players\n",
              "80           Football           1497\n",
              "176            Hockey           1422\n",
              "138  Team Competition           1147\n",
              "327        Basketball           1012\n",
              "337          Handball            973"
            ]
          },
          "metadata": {},
          "execution_count": 38
        }
      ]
    },
    {
      "cell_type": "code",
      "metadata": {
        "colab": {
          "base_uri": "https://localhost:8080/",
          "height": 376
        },
        "id": "T_vyxila-K4Y",
        "outputId": "bb211e2f-7df5-4d76-82a0-648120695d16"
      },
      "source": [
        "data.plot(x='Event',y='No.of Players',kind='bar')"
      ],
      "execution_count": 40,
      "outputs": [
        {
          "output_type": "execute_result",
          "data": {
            "text/plain": [
              "<matplotlib.axes._subplots.AxesSubplot at 0x7f0220b29e50>"
            ]
          },
          "metadata": {},
          "execution_count": 40
        },
        {
          "output_type": "display_data",
          "data": {
            "image/png": "[encoded data removed]",
            "text/plain": [
              "<Figure size 432x288 with 1 Axes>"
            ]
          },
          "metadata": {
            "needs_background": "light"
          }
        }
      ]
    },
    {
      "cell_type": "markdown",
      "metadata": {
        "id": "l8VDBgjr--9L"
      },
      "source": [
        "**8. Which sport is having most female Gold Medalists? (Top 5)**"
      ]
    },
    {
      "cell_type": "code",
      "metadata": {
        "id": "Eh8W91nF_BcW"
      },
      "source": [
        "womenInOlympics = df[(df.Gender == 'Women') & (df.Medal == 'Gold')]\n",
        "data=[]\n",
        "for sport in womenInOlympics['Sport'].unique():\n",
        "    data.append([sport,len(womenInOlympics[womenInOlympics['Sport']==sport])])\n",
        "data=pd.DataFrame(data, columns=['Sport','No.of female gold medalists']) \n",
        "data=data.sort_values(by='No.of female gold medalists', ascending=False).head()"
      ],
      "execution_count": 46,
      "outputs": []
    },
    {
      "cell_type": "code",
      "metadata": {
        "colab": {
          "base_uri": "https://localhost:8080/",
          "height": 204
        },
        "id": "nqQv48zo_Bfq",
        "outputId": "30a47111-c7e7-4394-d4c5-0df30dd209f7"
      },
      "source": [
        "data"
      ],
      "execution_count": 45,
      "outputs": [
        {
          "output_type": "execute_result",
          "data": {
            "text/html": [
              "<div>\n",
              "<style scoped>\n",
              "    .dataframe tbody tr th:only-of-type {\n",
              "        vertical-align: middle;\n",
              "    }\n",
              "\n",
              "    .dataframe tbody tr th {\n",
              "        vertical-align: top;\n",
              "    }\n",
              "\n",
              "    .dataframe thead th {\n",
              "        text-align: right;\n",
              "    }\n",
              "</style>\n",
              "<table border=\"1\" class=\"dataframe\">\n",
              "  <thead>\n",
              "    <tr style=\"text-align: right;\">\n",
              "      <th></th>\n",
              "      <th>Sport</th>\n",
              "      <th>No.of female gold medalists</th>\n",
              "    </tr>\n",
              "  </thead>\n",
              "  <tbody>\n",
              "    <tr>\n",
              "      <th>4</th>\n",
              "      <td>Aquatics</td>\n",
              "      <td>589</td>\n",
              "    </tr>\n",
              "    <tr>\n",
              "      <th>7</th>\n",
              "      <td>Athletics</td>\n",
              "      <td>389</td>\n",
              "    </tr>\n",
              "    <tr>\n",
              "      <th>8</th>\n",
              "      <td>Gymnastics</td>\n",
              "      <td>268</td>\n",
              "    </tr>\n",
              "    <tr>\n",
              "      <th>14</th>\n",
              "      <td>Rowing</td>\n",
              "      <td>217</td>\n",
              "    </tr>\n",
              "    <tr>\n",
              "      <th>11</th>\n",
              "      <td>Volleyball</td>\n",
              "      <td>166</td>\n",
              "    </tr>\n",
              "  </tbody>\n",
              "</table>\n",
              "</div>"
            ],
            "text/plain": [
              "         Sport  No.of female gold medalists\n",
              "4     Aquatics                          589\n",
              "7    Athletics                          389\n",
              "8   Gymnastics                          268\n",
              "14      Rowing                          217\n",
              "11  Volleyball                          166"
            ]
          },
          "metadata": {},
          "execution_count": 45
        }
      ]
    },
    {
      "cell_type": "code",
      "metadata": {
        "colab": {
          "base_uri": "https://localhost:8080/",
          "height": 345
        },
        "id": "aalb_END_JLH",
        "outputId": "6cde3dbe-4f53-4c61-df83-ced0b785a8de"
      },
      "source": [
        "data.plot(x='Sport',y='No.of female gold medalists',kind='bar')"
      ],
      "execution_count": 47,
      "outputs": [
        {
          "output_type": "execute_result",
          "data": {
            "text/plain": [
              "<matplotlib.axes._subplots.AxesSubplot at 0x7f0220cc7250>"
            ]
          },
          "metadata": {},
          "execution_count": 47
        },
        {
          "output_type": "display_data",
          "data": {
            "image/png": "[encoded data removed]",
            "text/plain": [
              "<Figure size 432x288 with 1 Axes>"
            ]
          },
          "metadata": {
            "needs_background": "light"
          }
        }
      ]
    }
  ]
}